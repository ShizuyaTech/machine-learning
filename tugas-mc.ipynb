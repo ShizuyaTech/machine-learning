{
 "cells": [
  {
   "cell_type": "markdown",
   "id": "aa745c2f-6fe2-4011-ae45-e637f95ea5ec",
   "metadata": {},
   "source": [
    "Tugas Machine Learning"
   ]
  },
  {
   "cell_type": "markdown",
   "id": "cb5854e2",
   "metadata": {},
   "source": []
  },
  {
   "cell_type": "markdown",
   "id": "ae2ca593-af7d-4ffd-bba0-f79239804ff9",
   "metadata": {},
   "source": [
    "Soal 1:"
   ]
  },
  {
   "cell_type": "markdown",
   "id": "be82a78c-a828-40e6-9ee7-9262d9dabf9e",
   "metadata": {},
   "source": [
    "Buatlah identitas diri menggunakan pemograman python sederhana"
   ]
  },
  {
   "cell_type": "code",
   "execution_count": 1,
   "id": "69624576-a712-41ca-bc83-f08f40278282",
   "metadata": {},
   "outputs": [
    {
     "name": "stdout",
     "output_type": "stream",
     "text": [
      "DATA DIRI\n",
      "Nama :  Mahardika\n",
      "NIM :  20220801441\n",
      "Program Studi :  Teknik Informatika\n",
      "Fakultas : Ilmu Komputer\n"
     ]
    }
   ],
   "source": [
    "nama = \"Mahardika\"\n",
    "nomor_induk_mahasiswa = \"20220801441\"\n",
    "program_studi = \"Teknik Informatika\"\n",
    "fakultas = \"Ilmu Komputer\"\n",
    "\n",
    "print(\"DATA DIRI\")\n",
    "print(\"Nama : \", nama)\n",
    "print(\"NIM : \", nomor_induk_mahasiswa)\n",
    "print(\"Program Studi : \", program_studi)\n",
    "print(\"Fakultas :\", fakultas)"
   ]
  },
  {
   "cell_type": "markdown",
   "id": "2626a6f9-472f-4de1-92db-4f1912bf3b3a",
   "metadata": {},
   "source": [
    "Soal 2"
   ]
  },
  {
   "cell_type": "markdown",
   "id": "5c2afaca-2c3d-43d6-b9f2-29cb9b2729be",
   "metadata": {},
   "source": [
    "Buatlah matriksC dengan orde 2x3, dan nilai yang diberikan pada matriksC adalah sebagai berikut:\n",
    "\n",
    "Baris 1 Kolom 1, nilai = 1\n",
    "Baris 1 Kolom 2, nilai = 2\n",
    "Baris 1 Kolom 3, nilai = 3\n",
    "Baris 2 Kolom 1, nilai = 4\n",
    "Baris 2 Kolom 2, nilai = 5\n",
    "Baris 2 Kolom 3, nilai = 6"
   ]
  },
  {
   "cell_type": "code",
   "execution_count": 2,
   "id": "ea107c19-348d-4888-84b7-1a45a8f60da6",
   "metadata": {},
   "outputs": [
    {
     "name": "stdout",
     "output_type": "stream",
     "text": [
      "[[1, 2, 3], [4, 5, 6]]\n"
     ]
    }
   ],
   "source": [
    "matriksC= [[1,2,3],[4,5,6]]\n",
    "print(matriksC)"
   ]
  },
  {
   "cell_type": "markdown",
   "id": "667d3fee-8d89-47b6-b640-60782c25e059",
   "metadata": {},
   "source": [
    "Soal 3"
   ]
  },
  {
   "cell_type": "markdown",
   "id": "1d6ed2ed-be96-40c2-965c-d450dc911039",
   "metadata": {},
   "source": [
    "Buatlah matriks dengan orde 3x2, dengan nilai adalah:\n",
    "\n",
    "Baris 1 Kolom 1, nilai = 2\n",
    "Baris 1 Kolom 2, nilai = 2\n",
    "Baris 2 Kolom 1, nilai = 2\n",
    "Baris 2 Kolom 2, nilai = 2\n",
    "Baris 3 Kolom 1, nilai = 2\n",
    "Baris 3 Kolom 2, nilai = 2"
   ]
  },
  {
   "cell_type": "code",
   "execution_count": 9,
   "id": "228eb23f",
   "metadata": {},
   "outputs": [
    {
     "name": "stdout",
     "output_type": "stream",
     "text": [
      "[[2, 2], [2, 2], [2, 2]]\n"
     ]
    }
   ],
   "source": [
    "matriks = [[2,2],[2,2],[2,2]]\n",
    "print(matriks)"
   ]
  },
  {
   "cell_type": "markdown",
   "id": "90fd49a2",
   "metadata": {},
   "source": [
    "Soal 4"
   ]
  },
  {
   "cell_type": "markdown",
   "id": "c922d2f5",
   "metadata": {},
   "source": [
    "Importlah library Numpy"
   ]
  },
  {
   "cell_type": "code",
   "execution_count": 8,
   "id": "1298b531",
   "metadata": {},
   "outputs": [
    {
     "ename": "ModuleNotFoundError",
     "evalue": "No module named 'numpy'",
     "output_type": "error",
     "traceback": [
      "\u001b[1;31m---------------------------------------------------------------------------\u001b[0m",
      "\u001b[1;31mModuleNotFoundError\u001b[0m                       Traceback (most recent call last)",
      "Cell \u001b[1;32mIn[8], line 1\u001b[0m\n\u001b[1;32m----> 1\u001b[0m \u001b[38;5;28;01mimport\u001b[39;00m \u001b[38;5;21;01mnumpy\u001b[39;00m \u001b[38;5;28;01mas\u001b[39;00m \u001b[38;5;21;01mnp\u001b[39;00m\n",
      "\u001b[1;31mModuleNotFoundError\u001b[0m: No module named 'numpy'"
     ]
    }
   ],
   "source": [
    "import numpy as np"
   ]
  },
  {
   "cell_type": "markdown",
   "id": "f115bcf7-d4af-4cfa-b2cf-e4f1ba081405",
   "metadata": {},
   "source": [
    "SOAL 5"
   ]
  },
  {
   "cell_type": "markdown",
   "id": "3cabe621-dbda-4d88-a126-034edd8f2667",
   "metadata": {},
   "source": [
    "Dengan memanfaatkan library numpy Buatlah matriks dengan menggunakan Library Numpy dengan panjang elemen adalah 32 dan matriks memiliki orde 4x8"
   ]
  },
  {
   "cell_type": "code",
   "execution_count": 5,
   "id": "305b5b64-9df7-4df1-bc03-00b9296f450e",
   "metadata": {},
   "outputs": [
    {
     "ename": "ModuleNotFoundError",
     "evalue": "No module named 'numpy'",
     "output_type": "error",
     "traceback": [
      "\u001b[1;31m---------------------------------------------------------------------------\u001b[0m",
      "\u001b[1;31mModuleNotFoundError\u001b[0m                       Traceback (most recent call last)",
      "Cell \u001b[1;32mIn[5], line 1\u001b[0m\n\u001b[1;32m----> 1\u001b[0m \u001b[38;5;28;01mfrom\u001b[39;00m \u001b[38;5;21;01mnumpy\u001b[39;00m \u001b[38;5;28;01mimport\u001b[39;00m \u001b[38;5;241m*\u001b[39m\n\u001b[0;32m      2\u001b[0m matriks \u001b[38;5;241m=\u001b[39m \u001b[38;5;28mrange\u001b[39m(\u001b[38;5;241m32\u001b[39m)\n\u001b[0;32m      3\u001b[0m matriks \u001b[38;5;241m=\u001b[39m reshape(matriks, (\u001b[38;5;241m4\u001b[39m,\u001b[38;5;241m8\u001b[39m))\n",
      "\u001b[1;31mModuleNotFoundError\u001b[0m: No module named 'numpy'"
     ]
    }
   ],
   "source": [
    "from numpy import *\n",
    "matriks = range(32)\n",
    "matriks = reshape(matriks, (4,8))\n",
    "print(matriks)"
   ]
  },
  {
   "cell_type": "markdown",
   "id": "8a8057f3-0ab9-44b7-bb88-2d46d7b933b6",
   "metadata": {},
   "source": [
    "Soal 6"
   ]
  },
  {
   "cell_type": "markdown",
   "id": "fdce27ff-8a3f-445d-b8d2-27ba4df2a20d",
   "metadata": {},
   "source": [
    "Buatlah matriks dengan menggunakan Library Numpy dengan orde 3x30, dan nilai elemen dimulai dari indeks 1 sampai dengan 5 secara random."
   ]
  },
  {
   "cell_type": "code",
   "execution_count": 6,
   "id": "1c572688-eb8d-40b5-a675-9196829ad4b8",
   "metadata": {},
   "outputs": [
    {
     "ename": "ModuleNotFoundError",
     "evalue": "No module named 'numpy'",
     "output_type": "error",
     "traceback": [
      "\u001b[1;31m---------------------------------------------------------------------------\u001b[0m",
      "\u001b[1;31mModuleNotFoundError\u001b[0m                       Traceback (most recent call last)",
      "Cell \u001b[1;32mIn[6], line 2\u001b[0m\n\u001b[0;32m      1\u001b[0m \u001b[38;5;66;03m#jawaban 6\u001b[39;00m\n\u001b[1;32m----> 2\u001b[0m \u001b[38;5;28;01mimport\u001b[39;00m \u001b[38;5;21;01mnumpy\u001b[39;00m \u001b[38;5;28;01mas\u001b[39;00m \u001b[38;5;21;01mnp\u001b[39;00m\n\u001b[0;32m      3\u001b[0m \u001b[38;5;28;01mfrom\u001b[39;00m \u001b[38;5;21;01mnumpy\u001b[39;00m \u001b[38;5;28;01mimport\u001b[39;00m \u001b[38;5;241m*\u001b[39m\n\u001b[0;32m      5\u001b[0m matriks \u001b[38;5;241m=\u001b[39m np\u001b[38;5;241m.\u001b[39mrandom\u001b[38;5;241m.\u001b[39mrandint(\u001b[38;5;241m1\u001b[39m,\u001b[38;5;241m5\u001b[39m,(\u001b[38;5;241m3\u001b[39m,\u001b[38;5;241m30\u001b[39m))\n",
      "\u001b[1;31mModuleNotFoundError\u001b[0m: No module named 'numpy'"
     ]
    }
   ],
   "source": [
    "#jawaban 6\n",
    "import numpy as np\n",
    "from numpy import *\n",
    "\n",
    "matriks = np.random.randint(1,5,(3,30))\n",
    "print(matriks)"
   ]
  }
 ],
 "metadata": {
  "kernelspec": {
   "display_name": "Python 3 (ipykernel)",
   "language": "python",
   "name": "python3"
  },
  "language_info": {
   "codemirror_mode": {
    "name": "ipython",
    "version": 3
   },
   "file_extension": ".py",
   "mimetype": "text/x-python",
   "name": "python",
   "nbconvert_exporter": "python",
   "pygments_lexer": "ipython3",
   "version": "3.12.3"
  }
 },
 "nbformat": 4,
 "nbformat_minor": 5
}
