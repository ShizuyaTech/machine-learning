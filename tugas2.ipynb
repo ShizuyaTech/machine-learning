{
 "cells": [
  {
   "cell_type": "markdown",
   "metadata": {},
   "source": [
    "TUGAS PERTEMUAN 2"
   ]
  },
  {
   "cell_type": "markdown",
   "metadata": {},
   "source": [
    "MACHINE LEARNING"
   ]
  },
  {
   "cell_type": "markdown",
   "metadata": {},
   "source": [
    "SOAL 1"
   ]
  },
  {
   "cell_type": "markdown",
   "metadata": {},
   "source": [
    "Buatlah identitas diri menggunakan pemograman python sederhana"
   ]
  },
  {
   "cell_type": "code",
   "execution_count": 2,
   "metadata": {},
   "outputs": [
    {
     "name": "stdout",
     "output_type": "stream",
     "text": [
      "DATA DIRI\n",
      "Nama :  Mahardika\n",
      "NIM:  20220801441\n",
      "Perkuliahan:  Machine Learning\n"
     ]
    }
   ],
   "source": [
    "#jawaban soal 1\n",
    "nama = \"Mahardika\"\n",
    "nim = \"20220801441\"\n",
    "mata_kuliah = \"Machine Learning\"\n",
    "\n",
    "print(\"DATA DIRI\")\n",
    "print(\"Nama : \", nama)\n",
    "print(\"NIM: \", nim)\n",
    "print(\"Perkuliahan: \", mata_kuliah)"
   ]
  },
  {
   "cell_type": "markdown",
   "metadata": {},
   "source": [
    "SOAL 2"
   ]
  },
  {
   "cell_type": "markdown",
   "metadata": {},
   "source": [
    "Buatlah matriksC dengan orde 2x3, dan nilai yang diberikan pada matriksC adalah sebagai berikut:"
   ]
  },
  {
   "cell_type": "markdown",
   "metadata": {},
   "source": [
    "Baris 1 Kolom 1, nilai = 1\n",
    "Baris 1 Kolom 2, nilai = 2\n",
    "Baris 1 Kolom 3, nilai = 3\n",
    "Baris 2 Kolom 1, nilai = 4\n",
    "Baris 2 Kolom 2, nilai = 5\n",
    "Baris 2 Kolom 3, nilai = 6"
   ]
  },
  {
   "cell_type": "code",
   "execution_count": 3,
   "metadata": {},
   "outputs": [
    {
     "name": "stdout",
     "output_type": "stream",
     "text": [
      "[[1, 2, 3], [4, 5, 6]]\n"
     ]
    }
   ],
   "source": [
    "#jawaban soal2\n",
    "matriksC= [[1,2,3],[4,5,6]]\n",
    "print(matriksC)"
   ]
  },
  {
   "cell_type": "markdown",
   "metadata": {},
   "source": [
    "SOAL 3"
   ]
  },
  {
   "cell_type": "markdown",
   "metadata": {},
   "source": [
    "Buatlah matriks dengan orde 3x2, dengan nilai adalah:"
   ]
  },
  {
   "cell_type": "markdown",
   "metadata": {},
   "source": [
    "Baris 1 Kolom 1, nilai = 2\n",
    "Baris 1 Kolom 2, nilai = 2\n",
    "Baris 2 Kolom 1, nilai = 2\n",
    "Baris 2 Kolom 2, nilai = 2\n",
    "Baris 3 Kolom 1, nilai = 2\n",
    "Baris 3 Kolom 2, nilai = 2"
   ]
  },
  {
   "cell_type": "code",
   "execution_count": 4,
   "metadata": {},
   "outputs": [
    {
     "name": "stdout",
     "output_type": "stream",
     "text": [
      "[[2, 2], [2, 2], [2, 2]]\n"
     ]
    }
   ],
   "source": [
    "#jawaban soal 3\n",
    "matriks = [[2,2],[2,2],[2,2]]\n",
    "print(matriks)"
   ]
  },
  {
   "cell_type": "markdown",
   "metadata": {},
   "source": [
    "SOAL 4"
   ]
  },
  {
   "cell_type": "markdown",
   "metadata": {},
   "source": [
    "Importlah library Numpy"
   ]
  },
  {
   "cell_type": "code",
   "execution_count": 5,
   "metadata": {},
   "outputs": [],
   "source": [
    "import numpy as np"
   ]
  },
  {
   "cell_type": "markdown",
   "metadata": {},
   "source": [
    "SOAL 5"
   ]
  },
  {
   "cell_type": "markdown",
   "metadata": {},
   "source": [
    "Dengan memanfaatkan library numpy Buatlah matriks dengan menggunakan Library Numpy dengan panjang elemen adalah 32 dan matriks memiliki orde 4x8"
   ]
  },
  {
   "cell_type": "code",
   "execution_count": 6,
   "metadata": {},
   "outputs": [
    {
     "name": "stdout",
     "output_type": "stream",
     "text": [
      "[[ 0  1  2  3  4  5  6  7]\n",
      " [ 8  9 10 11 12 13 14 15]\n",
      " [16 17 18 19 20 21 22 23]\n",
      " [24 25 26 27 28 29 30 31]]\n"
     ]
    }
   ],
   "source": [
    "#jawaban 5\n",
    "from numpy import *\n",
    "matriks = range(32)\n",
    "matriks = reshape(matriks, (4,8))\n",
    "print(matriks)"
   ]
  },
  {
   "cell_type": "markdown",
   "metadata": {},
   "source": [
    "SOAL 6"
   ]
  },
  {
   "cell_type": "markdown",
   "metadata": {},
   "source": [
    "Buatlah matriks dengan menggunakan Library Numpy dengan orde 3x30, dan nilai elemen dimulai dari indeks 1 sampai dengan 5 secara random."
   ]
  },
  {
   "cell_type": "code",
   "execution_count": 7,
   "metadata": {},
   "outputs": [
    {
     "name": "stdout",
     "output_type": "stream",
     "text": [
      "[[1 1 3 3 1 1 4 4 3 2 2 1 1 3 2 1 2 2 1 4 2 1 1 4 3 4 1 1 3 2]\n",
      " [2 4 2 2 3 2 2 4 3 3 3 2 3 3 1 2 1 2 4 3 3 3 3 1 3 3 4 1 3 1]\n",
      " [4 4 2 3 3 3 1 3 2 4 4 1 2 3 4 2 3 4 2 1 3 1 2 1 4 1 3 4 1 3]]\n"
     ]
    }
   ],
   "source": [
    "#jawaban 6\n",
    "import numpy as np\n",
    "from numpy import *\n",
    "\n",
    "matriks = np.random.randint(1,5,(3,30))\n",
    "print(matriks)"
   ]
  }
 ],
 "metadata": {
  "kernelspec": {
   "display_name": "Python 3",
   "language": "python",
   "name": "python3"
  },
  "language_info": {
   "codemirror_mode": {
    "name": "ipython",
    "version": 3
   },
   "file_extension": ".py",
   "mimetype": "text/x-python",
   "name": "python",
   "nbconvert_exporter": "python",
   "pygments_lexer": "ipython3",
   "version": "3.12.3"
  }
 },
 "nbformat": 4,
 "nbformat_minor": 2
}
